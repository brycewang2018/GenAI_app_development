{
  "nbformat": 4,
  "nbformat_minor": 0,
  "metadata": {
    "colab": {
      "provenance": []
    },
    "kernelspec": {
      "name": "python3",
      "display_name": "Python 3"
    },
    "language_info": {
      "name": "python"
    }
  },
  "cells": [
    {
      "cell_type": "code",
      "source": [
        "!pip install langchain  openai langchain_core tiktoken langchain_community -q"
      ],
      "metadata": {
        "colab": {
          "base_uri": "https://localhost:8080/"
        },
        "id": "Sr37zNBGUZ5p",
        "outputId": "3459a786-a16f-4202-a817-86174fa32009"
      },
      "execution_count": 5,
      "outputs": [
        {
          "output_type": "stream",
          "name": "stdout",
          "text": [
            "\u001b[2K   \u001b[90m━━━━━━━━━━━━━━━━━━━━━━━━━━━━━━━━━━━━━━━━\u001b[0m \u001b[32m2.3/2.3 MB\u001b[0m \u001b[31m28.0 MB/s\u001b[0m eta \u001b[36m0:00:00\u001b[0m\n",
            "\u001b[2K   \u001b[90m━━━━━━━━━━━━━━━━━━━━━━━━━━━━━━━━━━━━━━━━\u001b[0m \u001b[32m49.3/49.3 kB\u001b[0m \u001b[31m3.5 MB/s\u001b[0m eta \u001b[36m0:00:00\u001b[0m\n",
            "\u001b[?25h"
          ]
        }
      ]
    },
    {
      "cell_type": "code",
      "source": [
        "import getpass\n",
        "import os\n",
        "\n",
        "os.environ[\"OPENAI_API_KEY\"] = getpass.getpass()"
      ],
      "metadata": {
        "colab": {
          "base_uri": "https://localhost:8080/"
        },
        "id": "jK498qvNUjcB",
        "outputId": "95c65e82-ecbc-4040-a048-cebcfa812044"
      },
      "execution_count": 3,
      "outputs": [
        {
          "name": "stdout",
          "output_type": "stream",
          "text": [
            "··········\n"
          ]
        }
      ]
    },
    {
      "cell_type": "code",
      "source": [
        "AgentType.ZERO_SHOT_REACT_DESCRIPTION??"
      ],
      "metadata": {
        "id": "pZXggNEqh4IS"
      },
      "execution_count": 16,
      "outputs": []
    },
    {
      "cell_type": "code",
      "execution_count": 7,
      "metadata": {
        "colab": {
          "base_uri": "https://localhost:8080/"
        },
        "id": "yrz3bXkXUXPX",
        "outputId": "2aa4be9e-7c94-4d6d-8cca-84eb31d493c7"
      },
      "outputs": [
        {
          "output_type": "stream",
          "name": "stdout",
          "text": [
            "\n",
            "\n",
            "\u001b[1m> Entering new AgentExecutor chain...\u001b[0m\n",
            "\u001b[32;1m\u001b[1;3m I should use the order of operations to solve this problem.\n",
            "Action: Calculator\n",
            "Action Input: 15 * 3 + 7\u001b[0m\n",
            "Observation: \u001b[36;1m\u001b[1;3m52\u001b[0m\n",
            "Thought:\u001b[32;1m\u001b[1;3m I now know the final answer.\n",
            "Final Answer: 52\u001b[0m\n",
            "\n",
            "\u001b[1m> Finished chain.\u001b[0m\n",
            "52\n"
          ]
        }
      ],
      "source": [
        "# 示例 1: 简单的数学计算\n",
        "\n",
        "from langchain.agents import initialize_agent, Tool\n",
        "from langchain.agents import AgentType\n",
        "from langchain.llms import OpenAI\n",
        "\n",
        "## 定义核心的简单计算函数\n",
        "def calculate(expression):\n",
        "    return eval(expression) # eval(\"15 * 3 + 7\") = 52\n",
        "\n",
        "## 这里只有一个工具\n",
        "tools = [\n",
        "    Tool(\n",
        "        name=\"Calculator\",\n",
        "        func=calculate,\n",
        "        description=\"Useful for performing mathematical calculations\"\n",
        "    )\n",
        "]\n",
        "\n",
        "llm = OpenAI(temperature=0)\n",
        "\n",
        "## 初始化 agent\n",
        "agent = initialize_agent(tools, llm, agent=AgentType.ZERO_SHOT_REACT_DESCRIPTION, verbose=True)\n",
        "\n",
        "## 运行 agent\n",
        "result = agent.run(\"What is the result of 15 * 3 + 7?\")\n",
        "print(result)"
      ]
    },
    {
      "cell_type": "code",
      "source": [
        "eval(\"15 * 3 + 7\")"
      ],
      "metadata": {
        "colab": {
          "base_uri": "https://localhost:8080/"
        },
        "id": "vszu9-IpUg7H",
        "outputId": "24f3a6a0-a751-46d8-95e1-3d040e2e15e3"
      },
      "execution_count": 10,
      "outputs": [
        {
          "output_type": "execute_result",
          "data": {
            "text/plain": [
              "52"
            ]
          },
          "metadata": {},
          "execution_count": 10
        }
      ]
    },
    {
      "cell_type": "code",
      "source": [
        "# 示例 2: 天气查询和决策\n",
        "def get_weather(location):\n",
        "    # 这里应该是实际的天气 API 调用,为了示例我们使用模拟数据\n",
        "    return f\"The weather in {location} is sunny with a high of 25°C.\"\n",
        "\n",
        "tools = [\n",
        "    Tool(\n",
        "        name=\"WeatherAPI\",\n",
        "        func=get_weather,\n",
        "        description=\"Useful for getting weather information for a specific location\"\n",
        "    ),\n",
        "    Tool(\n",
        "        name=\"Calculator\",\n",
        "        func=calculate,\n",
        "        description=\"Useful for performing mathematical calculations\")\n",
        "]\n",
        "\n",
        "agent = initialize_agent(tools, llm, agent=AgentType.ZERO_SHOT_REACT_DESCRIPTION, verbose=True)\n",
        "\n",
        "result = agent.run(\"What's the weather like in London? Should I bring an umbrella?\")\n",
        "print(result)"
      ],
      "metadata": {
        "colab": {
          "base_uri": "https://localhost:8080/"
        },
        "id": "9zKg-3XKWGo9",
        "outputId": "8181d77a-0218-4d37-cdef-d98da25a6b36"
      },
      "execution_count": 12,
      "outputs": [
        {
          "output_type": "stream",
          "name": "stdout",
          "text": [
            "\n",
            "\n",
            "\u001b[1m> Entering new AgentExecutor chain...\u001b[0m\n",
            "\u001b[32;1m\u001b[1;3m I should use the WeatherAPI to get the weather information for London\n",
            "Action: WeatherAPI\n",
            "Action Input: London\u001b[0m\n",
            "Observation: \u001b[36;1m\u001b[1;3mThe weather in London is sunny with a high of 25°C.\u001b[0m\n",
            "Thought:\u001b[32;1m\u001b[1;3m Based on the weather information, I don't need to bring an umbrella.\n",
            "Final Answer: The weather in London is sunny with a high of 25°C, no need to bring an umbrella.\u001b[0m\n",
            "\n",
            "\u001b[1m> Finished chain.\u001b[0m\n",
            "The weather in London is sunny with a high of 25°C, no need to bring an umbrella.\n"
          ]
        }
      ]
    },
    {
      "cell_type": "code",
      "source": [
        "# 示例 3: 多步骤任务\n",
        "def search_database(query):\n",
        "    # 模拟数据库搜索\n",
        "    if \"population\" in query.lower():\n",
        "        return \"The population of New York City is approximately 8.4 million.\"\n",
        "    return \"No relevant information found.\"\n",
        "\n",
        "# def calculate_percentage(numbers):\n",
        "#     # 简单的百分比计算\n",
        "#     return eval(numbers) * 100\n",
        "\n",
        "def calculate_percentage(numbers):\n",
        "    # 移除 \"million\" 并将字符串转换为浮点数，然后计算百分比\n",
        "    num1, num2 = numbers.split(',')\n",
        "    num1 = float(num1.replace('million', '').strip()) * 1_000_000\n",
        "    num2 = float(num2.replace('million', '').strip()) * 1_000_000\n",
        "    return (num1 / num2) * 100\n",
        "\n",
        "tools = [\n",
        "    Tool(\n",
        "        name=\"DatabaseSearch\",\n",
        "        func=search_database,\n",
        "        description=\"Useful for finding factual information\"\n",
        "    ),\n",
        "    Tool(\n",
        "        name=\"PercentageCalculator\",\n",
        "        func=calculate_percentage,\n",
        "        description=\"Calculates percentages\"\n",
        "    )\n",
        "]\n",
        "\n",
        "agent = initialize_agent(tools, llm, agent=AgentType.ZERO_SHOT_REACT_DESCRIPTION, verbose=True)\n",
        "\n",
        "result = agent.run(\"What percentage of the US population lives in New York City? The US population is about 330 million.\")\n",
        "print(result)"
      ],
      "metadata": {
        "colab": {
          "base_uri": "https://localhost:8080/"
        },
        "id": "Af6UMUvIX-VF",
        "outputId": "2d175cb7-a828-4c4e-c8d9-17dfb37edf6f"
      },
      "execution_count": 15,
      "outputs": [
        {
          "output_type": "stream",
          "name": "stdout",
          "text": [
            "\n",
            "\n",
            "\u001b[1m> Entering new AgentExecutor chain...\u001b[0m\n",
            "\u001b[32;1m\u001b[1;3m I should use the PercentageCalculator tool to calculate the percentage.\n",
            "Action: PercentageCalculator\n",
            "Action Input: 8.4 million, 330 million\u001b[0m\n",
            "Observation: \u001b[33;1m\u001b[1;3m2.5454545454545454\u001b[0m\n",
            "Thought:\u001b[32;1m\u001b[1;3m I now know the percentage of the US population that lives in New York City.\n",
            "Final Answer: Approximately 2.55% of the US population lives in New York City.\u001b[0m\n",
            "\n",
            "\u001b[1m> Finished chain.\u001b[0m\n",
            "Approximately 2.55% of the US population lives in New York City.\n"
          ]
        }
      ]
    }
  ]
}