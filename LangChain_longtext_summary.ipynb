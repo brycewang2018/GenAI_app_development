{
  "nbformat": 4,
  "nbformat_minor": 0,
  "metadata": {
    "colab": {
      "provenance": [],
      "authorship_tag": "ABX9TyPpSAACIHIcRInkNNZKk3M5",
      "include_colab_link": true
    },
    "kernelspec": {
      "name": "python3",
      "display_name": "Python 3"
    },
    "language_info": {
      "name": "python"
    }
  },
  "cells": [
    {
      "cell_type": "markdown",
      "metadata": {
        "id": "view-in-github",
        "colab_type": "text"
      },
      "source": [
        "<a href=\"https://colab.research.google.com/github/byrcewang/GenAI_app_development/blob/main/LangChain_longtext_summary.ipynb\" target=\"_parent\"><img src=\"https://colab.research.google.com/assets/colab-badge.svg\" alt=\"Open In Colab\"/></a>"
      ]
    },
    {
      "cell_type": "code",
      "source": [
        "# install the libaries\n",
        "!pip install langchain -q\n",
        "!pip install openai -q\n",
        "!pip install unstructured -q"
      ],
      "metadata": {
        "id": "w7FQeaPLBWUU"
      },
      "execution_count": null,
      "outputs": []
    },
    {
      "cell_type": "code",
      "execution_count": 8,
      "metadata": {
        "colab": {
          "base_uri": "https://localhost:8080/",
          "height": 1000
        },
        "id": "hBm5boRm_YzT",
        "outputId": "08ffa4ed-8c68-4233-a392-6e6b32754a17"
      },
      "outputs": [
        {
          "output_type": "stream",
          "name": "stderr",
          "text": [
            "[nltk_data] Downloading package punkt to /root/nltk_data...\n",
            "[nltk_data]   Unzipping tokenizers/punkt.zip.\n",
            "[nltk_data] Downloading package averaged_perceptron_tagger to\n",
            "[nltk_data]     /root/nltk_data...\n",
            "[nltk_data]   Unzipping taggers/averaged_perceptron_tagger.zip.\n"
          ]
        },
        {
          "output_type": "stream",
          "name": "stdout",
          "text": [
            "documents:1\n",
            "documents:264\n",
            "\n",
            "\n",
            "\u001b[1m> Entering new RefineDocumentsChain chain...\u001b[0m\n",
            "\n",
            "\n",
            "\u001b[1m> Entering new LLMChain chain...\u001b[0m\n",
            "Prompt after formatting:\n",
            "\u001b[32;1m\u001b[1;3mWrite a concise summary of the following:\n",
            "\n",
            "\n",
            "\"World\n",
            "\n",
            "Africa\n",
            "\n",
            "Americas\n",
            "\n",
            "Asia\n",
            "\n",
            "Australia\n",
            "\n",
            "China\n",
            "\n",
            "Europe\n",
            "\n",
            "India\n",
            "\n",
            "Middle East\n",
            "\n",
            "United Kingdom\n",
            "\n",
            "Audio\n",
            "\n",
            "Live TV\n",
            "\n",
            "Log In Israeli ground forces inside Gaza as Palestinians take stock after intense overnight bombardment Ivana Kottasová Lauren Said-Moorhouse By Amarachi Orie, Zahid Mahmood, Ivana Kottasová, Kareem Khadder and Lauren Said-Moorhouse, CNN 7 minute read Updated 4:12 PM EDT, Sat October 28, 2023\"\n",
            "\n",
            "\n",
            "CONCISE SUMMARY:\u001b[0m\n",
            "\n",
            "\u001b[1m> Finished chain.\u001b[0m\n",
            "\n",
            "\n",
            "\u001b[1m> Entering new LLMChain chain...\u001b[0m\n",
            "Prompt after formatting:\n",
            "\u001b[32;1m\u001b[1;3mYour job is to produce a final summary.\n",
            "We have provided an existing summary up to a certain point:  Israeli ground forces entered Gaza during intense overnight bombardment, and the Palestinian people are now taking stock of the situation. CNN has provided a 7 minute read with updates from October 28, 2023, from reporters Amarachi Orie, Zahid Mahmood, Ivana Kottasová, Kareem Khadder and Lauren Said-Moorhouse, covering countries such as Africa, Americas, Asia, Australia, China, Europe, India, the Middle East, and the United Kingdom, as well as audio and live TV log-in.\n",
            "We have the opportunity to refine the existing summary (only if needed) with some more context below.\n",
            "------------\n",
            "People sift through the rubble of a destroyed building following Israeli strikes on Al-Shatee camp in Gaza City on October 28, 2023. Israeli air strikes destroyed hundreds of buildings in the Gaza Strip overnight, the civil defence service in the Hamas-controlled Palestinian territory said on October 28. (Photo by MOHAMMED ABED / AFP) (Photo by MOHAMMED ABED/AFP via Getty Images) People sift through the rubble of a destroyed building following Israeli strikes on Al-Shatee camp in Gaza City on\n",
            "------------\n",
            "Given the new context, refine the original summary.\n",
            "If the context isn't useful, return the original summary.\u001b[0m\n",
            "\n",
            "\u001b[1m> Finished chain.\u001b[0m\n",
            "\n",
            "\n",
            "\u001b[1m> Entering new LLMChain chain...\u001b[0m\n",
            "Prompt after formatting:\n",
            "\u001b[32;1m\u001b[1;3mYour job is to produce a final summary.\n",
            "We have provided an existing summary up to a certain point: \n",
            "Israeli ground forces entered Gaza during intense overnight bombardment, leaving hundreds of buildings in the Hamas-controlled Palestinian territory destroyed. The Palestinian people are now taking stock of the situation, sifting through the rubble of a destroyed building following Israeli strikes on Al-Shatee camp in Gaza City. CNN has provided a 7 minute read with updates from October 28, 2023, from reporters Amarachi Orie, Zahid Mahmood, Ivana Kottasová, Kareem Khadder and Lauren Said-Moorhouse, covering countries such as Africa, Americas, Asia, Australia, China, Europe, India, the Middle East, and the United Kingdom, as well as audio and live TV log-in.\n",
            "We have the opportunity to refine the existing summary (only if needed) with some more context below.\n",
            "------------\n",
            "Saturday. Mohammed Abed/AFP/Getty Images Sderot, Israel CNN — Israeli ground forces are inside Gaza after entering the enclave overnight, as Palestinians experienced what they have described as the most intense round of airstrikes since Israel began its retaliation against Hamas’ October 7 terror attack.\n",
            "------------\n",
            "Given the new context, refine the original summary.\n",
            "If the context isn't useful, return the original summary.\u001b[0m\n",
            "\n",
            "\u001b[1m> Finished chain.\u001b[0m\n",
            "\n",
            "\n",
            "\u001b[1m> Entering new LLMChain chain...\u001b[0m\n",
            "Prompt after formatting:\n",
            "\u001b[32;1m\u001b[1;3mYour job is to produce a final summary.\n",
            "We have provided an existing summary up to a certain point: \n",
            "Israeli ground forces entered Gaza during an intense overnight bombardment, leaving hundreds of buildings in the Hamas-controlled Palestinian territory destroyed. On Saturday, Palestinians experienced the most intense round of airstrikes since Israel began its retaliation against Hamas’ October 7 terror attack, with the Palestinian people now taking stock of the situation, sifting through the rubble of a destroyed building following Israeli strikes on Al-Shatee camp in Gaza City. CNN has provided a 7 minute read with updates from October 28, 2023, from reporters Amarachi Orie, Zahid Mahmood, Ivana Kottasová, Kareem Khadder and Lauren Said-Moorhouse, covering countries such as Africa, Americas, Asia, Australia, China, Europe, India, the Middle East, and the United Kingdom, as well as audio and live TV log-in.\n",
            "We have the opportunity to refine the existing summary (only if needed) with some more context below.\n",
            "------------\n",
            "Israeli forces “went into the Gaza Strip and expanded the ground operation where infantry, armor and engineer units and artillery with heavy fire are taking part,” Israel Defense Forces (IDF) spokesman Rear Adm. Daniel Hagari said Saturday morning.\n",
            "\n",
            "“The forces are in the field and continue the fighting,” he added, without giving further details.\n",
            "------------\n",
            "Given the new context, refine the original summary.\n",
            "If the context isn't useful, return the original summary.\u001b[0m\n",
            "\n",
            "\u001b[1m> Finished chain.\u001b[0m\n",
            "\n",
            "\n",
            "\u001b[1m> Entering new LLMChain chain...\u001b[0m\n",
            "Prompt after formatting:\n",
            "\u001b[32;1m\u001b[1;3mYour job is to produce a final summary.\n",
            "We have provided an existing summary up to a certain point: \n",
            "\n",
            "Israeli ground forces entered Gaza during an intense overnight bombardment, leaving hundreds of buildings in the Hamas-controlled Palestinian territory destroyed. On Saturday, Palestinians experienced the most intense round of airstrikes since Israel began its retaliation against Hamas’ October 7 terror attack, with the Palestinian people now taking stock of the situation, sifting through the rubble of a destroyed building following Israeli strikes on Al-Shatee camp in Gaza City. Israel Defense Forces (IDF) spokesman Rear Adm. Daniel Hagari confirmed that Israeli forces had \"expanded the ground operation where infantry, armor and engineer units and artillery with heavy fire are taking part.\" CNN has provided a 7 minute read with updates from October 28, 2023, from reporters Amarachi Orie, Zahid Mahmood, Ivana Kottasová, Kareem Khadder and Lauren Said-Moorhouse, covering countries such as Africa, Americas, Asia, Australia, China, Europe, India, the Middle East, and the United Kingdom, as well as audio and live TV log-in.\n",
            "We have the opportunity to refine the existing summary (only if needed) with some more context below.\n",
            "------------\n",
            "Hagari’s words confirm the military operation has undergone a significant expansion after what it had earlier described as two “targeted raids,” which took place on Wednesday night and Thursday night. Both those raids saw ground forces withdraw after a few hours.\n",
            "\n",
            "However, it does not appear as though any major ground offensive aimed at seizing and holding significant amounts of the territory is yet underway. In a fresh call for Gazans to move south, the IDF spoke of an “impending” operation.\n",
            "------------\n",
            "Given the new context, refine the original summary.\n",
            "If the context isn't useful, return the original summary.\u001b[0m\n",
            "\n",
            "\u001b[1m> Finished chain.\u001b[0m\n",
            "\n",
            "\u001b[1m> Finished chain.\u001b[0m\n"
          ]
        },
        {
          "output_type": "execute_result",
          "data": {
            "text/plain": [
              "'\\n\\nIsraeli ground forces entered Gaza during an intense overnight bombardment, leaving hundreds of buildings in the Hamas-controlled Palestinian territory destroyed. On Saturday, Palestinians experienced the most intense round of airstrikes since Israel began its retaliation against Hamas’ October 7 terror attack, with the Palestinian people now taking stock of the situation, sifting through the rubble of a destroyed building following Israeli strikes on Al-Shatee camp in Gaza City. Israel Defense Forces (IDF) spokesman Rear Adm. Daniel Hagari confirmed that Israeli forces had \"expanded the ground operation where infantry, armor and engineer units and artillery with heavy fire are taking part.\" Hagari\\'s words confirm the military operation has undergone a significant expansion after what it had earlier described as two “targeted raids,” which took place on Wednesday night and Thursday night. Both those raids saw ground forces withdraw after a few hours. However, it does not appear as though any major ground offensive aimed at seizing and holding significant amounts of the territory is yet underway. In a fresh call for Gazans to move south, the IDF spoke of an “impending” operation.'"
            ],
            "application/vnd.google.colaboratory.intrinsic+json": {
              "type": "string"
            }
          },
          "metadata": {},
          "execution_count": 8
        }
      ],
      "source": [
        "from langchain.document_loaders import UnstructuredFileLoader\n",
        "from langchain.chains.summarize import load_summarize_chain\n",
        "from langchain.text_splitter import RecursiveCharacterTextSplitter\n",
        "from langchain import OpenAI\n",
        "openai_api_key = \"sk-xxxx\"\n",
        "\n",
        "## Load the long test\n",
        "loader = UnstructuredFileLoader(\"/content/test-cnnNews.txt\")\n",
        "\n",
        "## Transform the text to document\n",
        "document = loader.load()\n",
        "print(f'The number of documents before cutting: {len(document)}')\n",
        "\n",
        "## Initial the text_splitter\n",
        "text_splitter = RecursiveCharacterTextSplitter(\n",
        "    chunk_size = 500,\n",
        "    chunk_overlap = 0\n",
        ")\n",
        "\n",
        "## Cut the documents\n",
        "split_documents = text_splitter.split_documents(document)\n",
        "print(f'The number of documents after cutting: {len(split_documents)}')\n",
        "\n",
        "## Initial the LLM\n",
        "llm = OpenAI(model_name=\"text-davinci-003\", max_tokens=1500,\n",
        "             openai_api_key=openai_api_key)\n",
        "\n",
        "## Create the summerize chain\n",
        "chain = load_summarize_chain(llm, chain_type=\"refine\", verbose=True)\n",
        "\n",
        "## Sum the first 10 documents\n",
        "chain.run(split_documents[:10])"
      ]
    },
    {
      "cell_type": "code",
      "source": [],
      "metadata": {
        "colab": {
          "base_uri": "https://localhost:8080/"
        },
        "id": "Wpq15nbpAjTq",
        "outputId": "3c6fd4eb-98ca-4758-ca36-4bf2a28e254b"
      },
      "execution_count": 7,
      "outputs": [
        {
          "output_type": "stream",
          "name": "stdout",
          "text": [
            "Collecting unstructured\n",
            "  Downloading unstructured-0.10.27-py3-none-any.whl (1.7 MB)\n",
            "\u001b[2K     \u001b[90m━━━━━━━━━━━━━━━━━━━━━━━━━━━━━━━━━━━━━━━━\u001b[0m \u001b[32m1.7/1.7 MB\u001b[0m \u001b[31m22.9 MB/s\u001b[0m eta \u001b[36m0:00:00\u001b[0m\n",
            "\u001b[?25hRequirement already satisfied: chardet in /usr/local/lib/python3.10/dist-packages (from unstructured) (5.2.0)\n",
            "Collecting filetype (from unstructured)\n",
            "  Downloading filetype-1.2.0-py2.py3-none-any.whl (19 kB)\n",
            "Collecting python-magic (from unstructured)\n",
            "  Downloading python_magic-0.4.27-py2.py3-none-any.whl (13 kB)\n",
            "Requirement already satisfied: lxml in /usr/local/lib/python3.10/dist-packages (from unstructured) (4.9.3)\n",
            "Requirement already satisfied: nltk in /usr/local/lib/python3.10/dist-packages (from unstructured) (3.8.1)\n",
            "Requirement already satisfied: tabulate in /usr/local/lib/python3.10/dist-packages (from unstructured) (0.9.0)\n",
            "Requirement already satisfied: requests in /usr/local/lib/python3.10/dist-packages (from unstructured) (2.31.0)\n",
            "Requirement already satisfied: beautifulsoup4 in /usr/local/lib/python3.10/dist-packages (from unstructured) (4.11.2)\n",
            "Collecting emoji (from unstructured)\n",
            "  Downloading emoji-2.8.0-py2.py3-none-any.whl (358 kB)\n",
            "\u001b[2K     \u001b[90m━━━━━━━━━━━━━━━━━━━━━━━━━━━━━━━━━━━━━━━━\u001b[0m \u001b[32m358.9/358.9 kB\u001b[0m \u001b[31m36.8 MB/s\u001b[0m eta \u001b[36m0:00:00\u001b[0m\n",
            "\u001b[?25hRequirement already satisfied: dataclasses-json in /usr/local/lib/python3.10/dist-packages (from unstructured) (0.6.1)\n",
            "Collecting python-iso639 (from unstructured)\n",
            "  Downloading python_iso639-2023.6.15-py3-none-any.whl (275 kB)\n",
            "\u001b[2K     \u001b[90m━━━━━━━━━━━━━━━━━━━━━━━━━━━━━━━━━━━━━━━━\u001b[0m \u001b[32m275.1/275.1 kB\u001b[0m \u001b[31m31.9 MB/s\u001b[0m eta \u001b[36m0:00:00\u001b[0m\n",
            "\u001b[?25hCollecting langdetect (from unstructured)\n",
            "  Downloading langdetect-1.0.9.tar.gz (981 kB)\n",
            "\u001b[2K     \u001b[90m━━━━━━━━━━━━━━━━━━━━━━━━━━━━━━━━━━━━━━━━\u001b[0m \u001b[32m981.5/981.5 kB\u001b[0m \u001b[31m52.2 MB/s\u001b[0m eta \u001b[36m0:00:00\u001b[0m\n",
            "\u001b[?25h  Preparing metadata (setup.py) ... \u001b[?25l\u001b[?25hdone\n",
            "Requirement already satisfied: numpy in /usr/local/lib/python3.10/dist-packages (from unstructured) (1.23.5)\n",
            "Collecting rapidfuzz (from unstructured)\n",
            "  Downloading rapidfuzz-3.4.0-cp310-cp310-manylinux_2_17_x86_64.manylinux2014_x86_64.whl (3.2 MB)\n",
            "\u001b[2K     \u001b[90m━━━━━━━━━━━━━━━━━━━━━━━━━━━━━━━━━━━━━━━━\u001b[0m \u001b[32m3.2/3.2 MB\u001b[0m \u001b[31m57.5 MB/s\u001b[0m eta \u001b[36m0:00:00\u001b[0m\n",
            "\u001b[?25hCollecting backoff (from unstructured)\n",
            "  Downloading backoff-2.2.1-py3-none-any.whl (15 kB)\n",
            "Requirement already satisfied: typing-extensions in /usr/local/lib/python3.10/dist-packages (from unstructured) (4.5.0)\n",
            "Requirement already satisfied: soupsieve>1.2 in /usr/local/lib/python3.10/dist-packages (from beautifulsoup4->unstructured) (2.5)\n",
            "Requirement already satisfied: marshmallow<4.0.0,>=3.18.0 in /usr/local/lib/python3.10/dist-packages (from dataclasses-json->unstructured) (3.20.1)\n",
            "Requirement already satisfied: typing-inspect<1,>=0.4.0 in /usr/local/lib/python3.10/dist-packages (from dataclasses-json->unstructured) (0.9.0)\n",
            "Requirement already satisfied: six in /usr/local/lib/python3.10/dist-packages (from langdetect->unstructured) (1.16.0)\n",
            "Requirement already satisfied: click in /usr/local/lib/python3.10/dist-packages (from nltk->unstructured) (8.1.7)\n",
            "Requirement already satisfied: joblib in /usr/local/lib/python3.10/dist-packages (from nltk->unstructured) (1.3.2)\n",
            "Requirement already satisfied: regex>=2021.8.3 in /usr/local/lib/python3.10/dist-packages (from nltk->unstructured) (2023.6.3)\n",
            "Requirement already satisfied: tqdm in /usr/local/lib/python3.10/dist-packages (from nltk->unstructured) (4.66.1)\n",
            "Requirement already satisfied: charset-normalizer<4,>=2 in /usr/local/lib/python3.10/dist-packages (from requests->unstructured) (3.3.1)\n",
            "Requirement already satisfied: idna<4,>=2.5 in /usr/local/lib/python3.10/dist-packages (from requests->unstructured) (3.4)\n",
            "Requirement already satisfied: urllib3<3,>=1.21.1 in /usr/local/lib/python3.10/dist-packages (from requests->unstructured) (2.0.7)\n",
            "Requirement already satisfied: certifi>=2017.4.17 in /usr/local/lib/python3.10/dist-packages (from requests->unstructured) (2023.7.22)\n",
            "Requirement already satisfied: packaging>=17.0 in /usr/local/lib/python3.10/dist-packages (from marshmallow<4.0.0,>=3.18.0->dataclasses-json->unstructured) (23.2)\n",
            "Requirement already satisfied: mypy-extensions>=0.3.0 in /usr/local/lib/python3.10/dist-packages (from typing-inspect<1,>=0.4.0->dataclasses-json->unstructured) (1.0.0)\n",
            "Building wheels for collected packages: langdetect\n",
            "  Building wheel for langdetect (setup.py) ... \u001b[?25l\u001b[?25hdone\n",
            "  Created wheel for langdetect: filename=langdetect-1.0.9-py3-none-any.whl size=993224 sha256=677fa442d292977dd39519c65fd4fe462e971e8cdb944ea9ea8497ed753a79ad\n",
            "  Stored in directory: /root/.cache/pip/wheels/95/03/7d/59ea870c70ce4e5a370638b5462a7711ab78fba2f655d05106\n",
            "Successfully built langdetect\n",
            "Installing collected packages: filetype, rapidfuzz, python-magic, python-iso639, langdetect, emoji, backoff, unstructured\n",
            "Successfully installed backoff-2.2.1 emoji-2.8.0 filetype-1.2.0 langdetect-1.0.9 python-iso639-2023.6.15 python-magic-0.4.27 rapidfuzz-3.4.0 unstructured-0.10.27\n"
          ]
        }
      ]
    },
    {
      "cell_type": "code",
      "source": [],
      "metadata": {
        "id": "2HyAkzz2ApFh"
      },
      "execution_count": null,
      "outputs": []
    }
  ]
}