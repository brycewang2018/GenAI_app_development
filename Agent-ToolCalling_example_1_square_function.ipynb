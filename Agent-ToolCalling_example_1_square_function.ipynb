{
  "nbformat": 4,
  "nbformat_minor": 0,
  "metadata": {
    "colab": {
      "provenance": [],
      "toc_visible": true
    },
    "kernelspec": {
      "name": "python3",
      "display_name": "Python 3"
    },
    "language_info": {
      "name": "python"
    }
  },
  "cells": [
    {
      "cell_type": "code",
      "source": [
        "!pip install langchain_openai langchain_community langchain_openai -q\n",
        "!pip install openai -q"
      ],
      "metadata": {
        "id": "8Pe3QmBHFKrr",
        "colab": {
          "base_uri": "https://localhost:8080/"
        },
        "outputId": "1ee97e93-5b0a-49af-d0d5-df82000e259e"
      },
      "execution_count": 1,
      "outputs": [
        {
          "output_type": "stream",
          "name": "stdout",
          "text": [
            "\u001b[2K     \u001b[90m━━━━━━━━━━━━━━━━━━━━━━━━━━━━━━━━━━━━━━━━\u001b[0m \u001b[32m50.4/50.4 kB\u001b[0m \u001b[31m808.7 kB/s\u001b[0m eta \u001b[36m0:00:00\u001b[0m\n",
            "\u001b[2K   \u001b[90m━━━━━━━━━━━━━━━━━━━━━━━━━━━━━━━━━━━━━━━━\u001b[0m \u001b[32m52.0/52.0 kB\u001b[0m \u001b[31m2.2 MB/s\u001b[0m eta \u001b[36m0:00:00\u001b[0m\n",
            "\u001b[2K   \u001b[90m━━━━━━━━━━━━━━━━━━━━━━━━━━━━━━━━━━━━━━━━\u001b[0m \u001b[32m2.3/2.3 MB\u001b[0m \u001b[31m12.2 MB/s\u001b[0m eta \u001b[36m0:00:00\u001b[0m\n",
            "\u001b[2K   \u001b[90m━━━━━━━━━━━━━━━━━━━━━━━━━━━━━━━━━━━━━━━━\u001b[0m \u001b[32m1.0/1.0 MB\u001b[0m \u001b[31m32.6 MB/s\u001b[0m eta \u001b[36m0:00:00\u001b[0m\n",
            "\u001b[2K   \u001b[90m━━━━━━━━━━━━━━━━━━━━━━━━━━━━━━━━━━━━━━━━\u001b[0m \u001b[32m396.2/396.2 kB\u001b[0m \u001b[31m18.3 MB/s\u001b[0m eta \u001b[36m0:00:00\u001b[0m\n",
            "\u001b[2K   \u001b[90m━━━━━━━━━━━━━━━━━━━━━━━━━━━━━━━━━━━━━━━━\u001b[0m \u001b[32m150.7/150.7 kB\u001b[0m \u001b[31m8.6 MB/s\u001b[0m eta \u001b[36m0:00:00\u001b[0m\n",
            "\u001b[2K   \u001b[90m━━━━━━━━━━━━━━━━━━━━━━━━━━━━━━━━━━━━━━━━\u001b[0m \u001b[32m365.7/365.7 kB\u001b[0m \u001b[31m19.4 MB/s\u001b[0m eta \u001b[36m0:00:00\u001b[0m\n",
            "\u001b[2K   \u001b[90m━━━━━━━━━━━━━━━━━━━━━━━━━━━━━━━━━━━━━━━━\u001b[0m \u001b[32m1.1/1.1 MB\u001b[0m \u001b[31m37.6 MB/s\u001b[0m eta \u001b[36m0:00:00\u001b[0m\n",
            "\u001b[2K   \u001b[90m━━━━━━━━━━━━━━━━━━━━━━━━━━━━━━━━━━━━━━━━\u001b[0m \u001b[32m76.4/76.4 kB\u001b[0m \u001b[31m3.8 MB/s\u001b[0m eta \u001b[36m0:00:00\u001b[0m\n",
            "\u001b[2K   \u001b[90m━━━━━━━━━━━━━━━━━━━━━━━━━━━━━━━━━━━━━━━━\u001b[0m \u001b[32m77.9/77.9 kB\u001b[0m \u001b[31m4.2 MB/s\u001b[0m eta \u001b[36m0:00:00\u001b[0m\n",
            "\u001b[2K   \u001b[90m━━━━━━━━━━━━━━━━━━━━━━━━━━━━━━━━━━━━━━━━\u001b[0m \u001b[32m318.9/318.9 kB\u001b[0m \u001b[31m13.7 MB/s\u001b[0m eta \u001b[36m0:00:00\u001b[0m\n",
            "\u001b[2K   \u001b[90m━━━━━━━━━━━━━━━━━━━━━━━━━━━━━━━━━━━━━━━━\u001b[0m \u001b[32m49.3/49.3 kB\u001b[0m \u001b[31m3.1 MB/s\u001b[0m eta \u001b[36m0:00:00\u001b[0m\n",
            "\u001b[2K   \u001b[90m━━━━━━━━━━━━━━━━━━━━━━━━━━━━━━━━━━━━━━━━\u001b[0m \u001b[32m141.9/141.9 kB\u001b[0m \u001b[31m9.7 MB/s\u001b[0m eta \u001b[36m0:00:00\u001b[0m\n",
            "\u001b[2K   \u001b[90m━━━━━━━━━━━━━━━━━━━━━━━━━━━━━━━━━━━━━━━━\u001b[0m \u001b[32m58.3/58.3 kB\u001b[0m \u001b[31m2.6 MB/s\u001b[0m eta \u001b[36m0:00:00\u001b[0m\n",
            "\u001b[?25h"
          ]
        }
      ]
    },
    {
      "cell_type": "code",
      "execution_count": 14,
      "metadata": {
        "colab": {
          "base_uri": "https://localhost:8080/"
        },
        "id": "G8faEOOgFCcW",
        "outputId": "f65f53c9-114e-425f-ec20-cd6534ea51dd"
      },
      "outputs": [
        {
          "name": "stdout",
          "output_type": "stream",
          "text": [
            "··········\n"
          ]
        }
      ],
      "source": [
        "import getpass\n",
        "import os\n",
        "\n",
        "os.environ[\"OPENAI_API_KEY\"] = getpass.getpass()\n",
        "\n",
        "from langchain_openai import ChatOpenAI\n",
        "\n",
        "llm = ChatOpenAI()"
      ]
    },
    {
      "cell_type": "code",
      "source": [
        "from langchain.agents import Tool\n",
        "from langchain.chat_models import ChatOpenAI\n",
        "from langchain.agents import initialize_agent\n",
        "from langchain.agents import AgentType\n",
        "\n",
        "# 修改工具函数以处理字符串输入\n",
        "def calculate_square(number_str: str) -> str:\n",
        "    try:\n",
        "        number = int(number_str)\n",
        "        return f\"The square of {number} is {number ** 2}\"\n",
        "    except ValueError:\n",
        "        return f\"Error: '{number_str}' is not a valid integer.\"\n",
        "\n",
        "# 使用 LangChain 的 Tool 类定义工具\n",
        "tools = [\n",
        "    Tool(\n",
        "        name=\"SquareCalculator\",\n",
        "        func=calculate_square,\n",
        "        description=\"Calculates the square of a given number. Input should be a string representing an integer.\",\n",
        "    )\n",
        "]\n",
        "\n",
        "# 初始化语言模型\n",
        "llm = ChatOpenAI(temperature=0)\n",
        "\n",
        "# 初始化代理\n",
        "agent = initialize_agent(\n",
        "    tools,\n",
        "    llm,\n",
        "    agent=AgentType.ZERO_SHOT_REACT_DESCRIPTION,\n",
        "    verbose=True\n",
        ")\n",
        "\n",
        "# 让代理使用工具\n",
        "response = agent.run(\"Please calculate the square of 7.\")\n",
        "\n",
        "# 输出结果\n",
        "print(response)"
      ],
      "metadata": {
        "colab": {
          "base_uri": "https://localhost:8080/"
        },
        "id": "DLTAQPwR6Ejt",
        "outputId": "57ef1d50-57b6-414f-bcee-0e48fb796c3f"
      },
      "execution_count": 22,
      "outputs": [
        {
          "output_type": "stream",
          "name": "stdout",
          "text": [
            "\n",
            "\n",
            "\u001b[1m> Entering new AgentExecutor chain...\u001b[0m\n",
            "\u001b[32;1m\u001b[1;3mI should use the SquareCalculator tool to calculate the square of 7.\n",
            "Action: SquareCalculator\n",
            "Action Input: \"7\"\u001b[0m\n",
            "Observation: \u001b[36;1m\u001b[1;3mThe square of 7 is 49\u001b[0m\n",
            "Thought:\u001b[32;1m\u001b[1;3mI now know the final answer.\n",
            "Final Answer: 49\u001b[0m\n",
            "\n",
            "\u001b[1m> Finished chain.\u001b[0m\n",
            "49\n"
          ]
        }
      ]
    },
    {
      "cell_type": "code",
      "source": [],
      "metadata": {
        "id": "IhdVUxhrEIHp"
      },
      "execution_count": null,
      "outputs": []
    },
    {
      "cell_type": "code",
      "source": [],
      "metadata": {
        "id": "QFHYAQBTEAcN"
      },
      "execution_count": null,
      "outputs": []
    },
    {
      "cell_type": "code",
      "source": [
        "from langchain.agents import Tool  # 从 langchain.agents 导入 Tool 类\n",
        "from langchain.chat_models import ChatOpenAI  # 从 langchain.chat_models 导入 ChatOpenAI 模型\n",
        "from langchain.agents import initialize_agent  # 从 langchain.agents 导入 initialize_agent 函数\n",
        "from langchain.agents import AgentType  # 从 langchain.agents 导入 AgentType 类\n",
        "\n",
        "# 修改工具函数以处理字符串输入\n",
        "def calculate_square(number_str: str) -> str:\n",
        "    \"\"\"\n",
        "    计算一个整数的平方。函数接受一个字符串形式的整数作为输入，并返回该整数平方的字符串结果。\n",
        "    如果输入的字符串不能转换为整数，则返回错误信息。\n",
        "\n",
        "    参数:\n",
        "    number_str (str): 表示一个整数的字符串\n",
        "\n",
        "    返回:\n",
        "    str: 返回计算结果的字符串或错误信息\n",
        "    \"\"\"\n",
        "    try:\n",
        "        # 尝试将字符串转换为整数\n",
        "        number = int(number_str)\n",
        "        # 返回平方计算结果的字符串\n",
        "        return f\"The square of {number} is {number ** 2}\"\n",
        "    except ValueError:\n",
        "        # 如果转换失败，返回错误信息\n",
        "        return f\"Error: '{number_str}' is not a valid integer.\"\n",
        "\n",
        "# 使用 LangChain 的 Tool 类定义工具\n",
        "tools = [\n",
        "    Tool(\n",
        "        name=\"SquareCalculator\",  # 工具的名称\n",
        "        func=calculate_square,  # 工具执行的函数\n",
        "        description=\"Calculates the square of a given number. Input should be a string representing an integer.\",  # 工具的描述\n",
        "    )\n",
        "]\n",
        "\n",
        "# 注释解释：\n",
        "# 1. Tool 类用于将函数包装成可以在 LangChain agent 中使用的工具。\n",
        "# 2. name 参数指定工具的名称，在调用工具时会用到这个名称。\n",
        "# 3. func 参数是实际执行计算的函数，在这里是 calculate_square 函数。\n",
        "# 4. description 参数提供了工具的简要描述，说明工具的用途和输入要求。\n"
      ],
      "metadata": {
        "id": "en-mds08EAiG"
      },
      "execution_count": 23,
      "outputs": []
    },
    {
      "cell_type": "code",
      "source": [
        "# 初始化语言模型\n",
        "llm = ChatOpenAI(temperature=0)  # 使用 ChatOpenAI 语言模型，设置 temperature 为 0，表示生成的文本更加确定性\n",
        "\n",
        "# 初始化代理\n",
        "agent = initialize_agent(\n",
        "    tools,  # 指定代理将使用的工具列表，在前面定义的 SquareCalculator 工具\n",
        "    llm,  # 传入初始化的语言模型\n",
        "    agent=AgentType.ZERO_SHOT_REACT_DESCRIPTION,  # 指定代理类型为 ZERO_SHOT_REACT_DESCRIPTION，表示代理可以根据描述反应并调用适当的工具\n",
        "    verbose=True  # 设置 verbose 为 True，以便在运行时输出详细的日志信息\n",
        ")\n",
        "\n",
        "# 让代理使用工具\n",
        "response = agent.run(\"Please calculate the square of 7.\")  # 运行代理，输入请求让其计算 7 的平方\n",
        "\n",
        "# 输出结果\n",
        "print(response)  # 打印代理返回的结果"
      ],
      "metadata": {
        "colab": {
          "base_uri": "https://localhost:8080/"
        },
        "id": "O2h3k_aMEIt3",
        "outputId": "d2ba655d-dc2b-4301-ade6-76159b095890"
      },
      "execution_count": 24,
      "outputs": [
        {
          "output_type": "stream",
          "name": "stdout",
          "text": [
            "\n",
            "\n",
            "\u001b[1m> Entering new AgentExecutor chain...\u001b[0m\n",
            "\u001b[32;1m\u001b[1;3mI should use the SquareCalculator tool to calculate the square of 7.\n",
            "Action: SquareCalculator\n",
            "Action Input: \"7\"\u001b[0m\n",
            "Observation: \u001b[36;1m\u001b[1;3mThe square of 7 is 49\u001b[0m\n",
            "Thought:\u001b[32;1m\u001b[1;3mI now know the final answer.\n",
            "Final Answer: 49\u001b[0m\n",
            "\n",
            "\u001b[1m> Finished chain.\u001b[0m\n",
            "49\n"
          ]
        }
      ]
    },
    {
      "cell_type": "code",
      "source": [],
      "metadata": {
        "id": "BoCnmF1FEJRX"
      },
      "execution_count": null,
      "outputs": []
    }
  ]
}