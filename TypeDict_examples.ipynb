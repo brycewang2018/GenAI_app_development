{
  "nbformat": 4,
  "nbformat_minor": 0,
  "metadata": {
    "colab": {
      "provenance": []
    },
    "kernelspec": {
      "name": "python3",
      "display_name": "Python 3"
    },
    "language_info": {
      "name": "python"
    }
  },
  "cells": [
    {
      "cell_type": "code",
      "source": [
        "!pip install langchain langgraph -q"
      ],
      "metadata": {
        "colab": {
          "base_uri": "https://localhost:8080/"
        },
        "id": "o-SE4TpSMfjy",
        "outputId": "7a23ebb5-8a89-49f5-8c4a-e89d4a17ef38"
      },
      "execution_count": 3,
      "outputs": [
        {
          "output_type": "stream",
          "name": "stdout",
          "text": [
            "\u001b[?25l   \u001b[90m━━━━━━━━━━━━━━━━━━━━━━━━━━━━━━━━━━━━━━━━\u001b[0m \u001b[32m0.0/87.1 kB\u001b[0m \u001b[31m?\u001b[0m eta \u001b[36m-:--:--\u001b[0m\r\u001b[2K   \u001b[90m━━━━━━━━━━━━━━━━━━━━━━━━━━━━━━━━━━━━━━━━\u001b[0m \u001b[32m87.1/87.1 kB\u001b[0m \u001b[31m5.3 MB/s\u001b[0m eta \u001b[36m0:00:00\u001b[0m\n",
            "\u001b[?25h"
          ]
        }
      ]
    },
    {
      "cell_type": "code",
      "execution_count": 6,
      "metadata": {
        "colab": {
          "base_uri": "https://localhost:8080/"
        },
        "id": "1t1Ys05HMbef",
        "outputId": "22b9d040-4b6a-488c-d3d2-a590c2dedcee"
      },
      "outputs": [
        {
          "output_type": "execute_result",
          "data": {
            "text/plain": [
              "{'name': 'Alice', 'age': 25, 'is_student': False}"
            ]
          },
          "metadata": {},
          "execution_count": 6
        }
      ],
      "source": [
        "from typing import TypedDict\n",
        "\n",
        "class Person(TypedDict):\n",
        "    name: str\n",
        "    age: int\n",
        "    is_student: bool\n",
        "\n",
        "person: Person = {\n",
        "    'name': 'Alice',\n",
        "    'age': 25,\n",
        "    'is_student': False\n",
        "}\n",
        "\n",
        "person"
      ]
    },
    {
      "cell_type": "code",
      "source": [
        "# 2\n",
        "from typing import TypedDict, Optional\n",
        "\n",
        "class Person(TypedDict, total=False): #total=False 是一个参数，用来控制是否所有字段都是必需的\n",
        "    name: str\n",
        "    age: int\n",
        "    is_student: bool\n",
        "    address: Optional[str]  # 可选字段\n",
        "\n",
        "person: Person = {\n",
        "    'name': 'Bob',\n",
        "    'age': 30,\n",
        "}\n",
        "\n",
        "person\n",
        "\n",
        "# {'name': 'Bob', 'age': 30}"
      ],
      "metadata": {
        "colab": {
          "base_uri": "https://localhost:8080/"
        },
        "id": "MuqQtLMHn8t1",
        "outputId": "80c43e4d-2b14-4d9c-c4ef-206f5233051a"
      },
      "execution_count": 7,
      "outputs": [
        {
          "output_type": "execute_result",
          "data": {
            "text/plain": [
              "{'name': 'Bob', 'age': 30}"
            ]
          },
          "metadata": {},
          "execution_count": 7
        }
      ]
    },
    {
      "cell_type": "code",
      "source": [
        "# 3 继承\n",
        "# 在这里，Employee 继承了 Person 的结构，并增加了 employee_id 字段。\n",
        "\n",
        "\n",
        "from typing import TypedDict\n",
        "\n",
        "class Person(TypedDict):\n",
        "    name: str\n",
        "    age: int\n",
        "\n",
        "class Employee(Person):\n",
        "    employee_id: int\n",
        "\n",
        "employee: Employee = {\n",
        "    'name': 'Carol',\n",
        "    'age': 28,\n",
        "    'employee_id': 1234\n",
        "}\n",
        "\n",
        "employee\n",
        "#{'name': 'Carol', 'age': 28, 'employee_id': 1234}\n"
      ],
      "metadata": {
        "colab": {
          "base_uri": "https://localhost:8080/"
        },
        "id": "o5jTMCHIrkpJ",
        "outputId": "125161b1-30b3-4aa8-842f-49d033af1b07"
      },
      "execution_count": 8,
      "outputs": [
        {
          "output_type": "execute_result",
          "data": {
            "text/plain": [
              "{'name': 'Carol', 'age': 28, 'employee_id': 1234}"
            ]
          },
          "metadata": {},
          "execution_count": 8
        }
      ]
    },
    {
      "cell_type": "code",
      "source": [
        "# 4\n",
        "from typing import TypedDict\n",
        "\n",
        "person: TypedDict('Person', {'name': str, 'age': int, 'is_student': bool}) = {\n",
        "    'name': 'Dave',\n",
        "    'age': 22,\n",
        "    'is_student': True\n",
        "}\n",
        "\n",
        "person #{'name': 'Dave', 'age': 22, 'is_student': True}"
      ],
      "metadata": {
        "colab": {
          "base_uri": "https://localhost:8080/"
        },
        "id": "cvnrNGptrl9z",
        "outputId": "0ca351e1-113a-4b61-cf3a-d054860c131a"
      },
      "execution_count": 9,
      "outputs": [
        {
          "output_type": "execute_result",
          "data": {
            "text/plain": [
              "{'name': 'Dave', 'age': 22, 'is_student': True}"
            ]
          },
          "metadata": {},
          "execution_count": 9
        }
      ]
    },
    {
      "cell_type": "code",
      "source": [
        "# 5\n",
        "from typing import TypedDict\n",
        "\n",
        "class Person(TypedDict, total=False):\n",
        "    name: str\n",
        "    age: int\n",
        "\n",
        "person: Person = {\n",
        "    'name': 'Eve',\n",
        "}\n",
        "\n",
        "person #{'name': 'Eve'}"
      ],
      "metadata": {
        "colab": {
          "base_uri": "https://localhost:8080/"
        },
        "id": "k7IJVYSqsNR6",
        "outputId": "2f82b623-5d61-4fa5-c92c-2c336d364445"
      },
      "execution_count": 10,
      "outputs": [
        {
          "output_type": "execute_result",
          "data": {
            "text/plain": [
              "{'name': 'Eve'}"
            ]
          },
          "metadata": {},
          "execution_count": 10
        }
      ]
    },
    {
      "cell_type": "code",
      "source": [],
      "metadata": {
        "id": "ecuCNUqvsOu9"
      },
      "execution_count": null,
      "outputs": []
    }
  ]
}