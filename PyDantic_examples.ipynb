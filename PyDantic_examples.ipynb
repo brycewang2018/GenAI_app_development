{
  "nbformat": 4,
  "nbformat_minor": 0,
  "metadata": {
    "colab": {
      "provenance": []
    },
    "kernelspec": {
      "name": "python3",
      "display_name": "Python 3"
    },
    "language_info": {
      "name": "python"
    }
  },
  "cells": [
    {
      "cell_type": "code",
      "source": [
        "!pip install pydantic pydantic[email] fastapi -q"
      ],
      "metadata": {
        "colab": {
          "base_uri": "https://localhost:8080/"
        },
        "id": "89QL5y1ece6F",
        "outputId": "abd99e88-62c6-4ed5-b663-ce878dd98ea8"
      },
      "execution_count": 3,
      "outputs": [
        {
          "output_type": "stream",
          "name": "stdout",
          "text": [
            "\u001b[?25l   \u001b[90m━━━━━━━━━━━━━━━━━━━━━━━━━━━━━━━━━━━━━━━━\u001b[0m \u001b[32m0.0/93.2 kB\u001b[0m \u001b[31m?\u001b[0m eta \u001b[36m-:--:--\u001b[0m\r\u001b[2K   \u001b[90m━━━━━━━━━━━━━━━━━━━━━━━━━━━━━━━━━━━━━━━━\u001b[0m \u001b[32m93.2/93.2 kB\u001b[0m \u001b[31m3.1 MB/s\u001b[0m eta \u001b[36m0:00:00\u001b[0m\n",
            "\u001b[?25h\u001b[?25l   \u001b[90m━━━━━━━━━━━━━━━━━━━━━━━━━━━━━━━━━━━━━━━━\u001b[0m \u001b[32m0.0/72.0 kB\u001b[0m \u001b[31m?\u001b[0m eta \u001b[36m-:--:--\u001b[0m\r\u001b[2K   \u001b[90m━━━━━━━━━━━━━━━━━━━━━━━━━━━━━━━━━━━━━━━━\u001b[0m \u001b[32m72.0/72.0 kB\u001b[0m \u001b[31m5.3 MB/s\u001b[0m eta \u001b[36m0:00:00\u001b[0m\n",
            "\u001b[?25h"
          ]
        }
      ]
    },
    {
      "cell_type": "code",
      "execution_count": 10,
      "metadata": {
        "colab": {
          "base_uri": "https://localhost:8080/",
          "height": 376
        },
        "id": "6513ccvhcR4w",
        "outputId": "c464d162-4348-49ee-ffbd-cbc768ce398c"
      },
      "outputs": [
        {
          "output_type": "stream",
          "name": "stdout",
          "text": [
            "id=1 name='Bryce' age=55 is_active=True\n"
          ]
        },
        {
          "output_type": "error",
          "ename": "ValidationError",
          "evalue": "1 validation error for User\nname\n  Input should be a valid string [type=string_type, input_value=250, input_type=int]\n    For further information visit https://errors.pydantic.dev/2.8/v/string_type",
          "traceback": [
            "\u001b[0;31m---------------------------------------------------------------------------\u001b[0m",
            "\u001b[0;31mValidationError\u001b[0m                           Traceback (most recent call last)",
            "\u001b[0;32m<ipython-input-10-c9ad2e6e3dbe>\u001b[0m in \u001b[0;36m<cell line: 16>\u001b[0;34m()\u001b[0m\n\u001b[1;32m     14\u001b[0m \u001b[0;31m# id=1 name='Bryce' age=55 is_active=True\u001b[0m\u001b[0;34m\u001b[0m\u001b[0;34m\u001b[0m\u001b[0m\n\u001b[1;32m     15\u001b[0m \u001b[0;34m\u001b[0m\u001b[0m\n\u001b[0;32m---> 16\u001b[0;31m \u001b[0muser\u001b[0m \u001b[0;34m=\u001b[0m \u001b[0mUser\u001b[0m\u001b[0;34m(\u001b[0m\u001b[0mid\u001b[0m\u001b[0;34m=\u001b[0m\u001b[0;36m1\u001b[0m\u001b[0;34m,\u001b[0m \u001b[0mname\u001b[0m\u001b[0;34m=\u001b[0m\u001b[0;36m250\u001b[0m\u001b[0;34m,\u001b[0m \u001b[0mage\u001b[0m\u001b[0;34m=\u001b[0m\u001b[0;36m55\u001b[0m\u001b[0;34m)\u001b[0m\u001b[0;34m\u001b[0m\u001b[0;34m\u001b[0m\u001b[0m\n\u001b[0m",
            "\u001b[0;32m/usr/local/lib/python3.10/dist-packages/pydantic/main.py\u001b[0m in \u001b[0;36m__init__\u001b[0;34m(self, **data)\u001b[0m\n\u001b[1;32m    191\u001b[0m         \u001b[0;31m# `__tracebackhide__` tells pytest and some other tools to omit this function from tracebacks\u001b[0m\u001b[0;34m\u001b[0m\u001b[0;34m\u001b[0m\u001b[0m\n\u001b[1;32m    192\u001b[0m         \u001b[0m__tracebackhide__\u001b[0m \u001b[0;34m=\u001b[0m \u001b[0;32mTrue\u001b[0m\u001b[0;34m\u001b[0m\u001b[0;34m\u001b[0m\u001b[0m\n\u001b[0;32m--> 193\u001b[0;31m         \u001b[0mself\u001b[0m\u001b[0;34m.\u001b[0m\u001b[0m__pydantic_validator__\u001b[0m\u001b[0;34m.\u001b[0m\u001b[0mvalidate_python\u001b[0m\u001b[0;34m(\u001b[0m\u001b[0mdata\u001b[0m\u001b[0;34m,\u001b[0m \u001b[0mself_instance\u001b[0m\u001b[0;34m=\u001b[0m\u001b[0mself\u001b[0m\u001b[0;34m)\u001b[0m\u001b[0;34m\u001b[0m\u001b[0;34m\u001b[0m\u001b[0m\n\u001b[0m\u001b[1;32m    194\u001b[0m \u001b[0;34m\u001b[0m\u001b[0m\n\u001b[1;32m    195\u001b[0m     \u001b[0;31m# The following line sets a flag that we use to determine when `__init__` gets overridden by the user\u001b[0m\u001b[0;34m\u001b[0m\u001b[0;34m\u001b[0m\u001b[0m\n",
            "\u001b[0;31mValidationError\u001b[0m: 1 validation error for User\nname\n  Input should be a valid string [type=string_type, input_value=250, input_type=int]\n    For further information visit https://errors.pydantic.dev/2.8/v/string_type"
          ]
        }
      ],
      "source": [
        "# 1. BaseModel\n",
        "from pydantic import BaseModel\n",
        "\n",
        "class User(BaseModel):\n",
        "  id: int\n",
        "  name: str\n",
        "  age: int\n",
        "  is_active: bool=True\n",
        "\n",
        "# Instance\n",
        "user = User(id=1, name='Bryce', age=55)\n",
        "print(user)\n",
        "\n",
        "# id=1 name='Bryce' age=55 is_active=True\n",
        "\n",
        "user = User(id=1, name=250, age=55)"
      ]
    },
    {
      "cell_type": "code",
      "source": [
        "## validation\n",
        "from pydantic import BaseModel, EmailStr\n",
        "\n",
        "class User(BaseModel):\n",
        "  id: int\n",
        "  name: str\n",
        "  email: EmailStr\n",
        "\n",
        "user = User(id=1, name='Bryce', email='william.henry.harrison@example-pet-store.com')\n",
        "\n",
        "#user.email #william.henry.harrison@example-pet-store.com\n",
        "\n",
        "try:\n",
        "  user = User(id=1, name='Bryce', email='bryce')\n",
        "except ValueError as e:\n",
        "  print(e)"
      ],
      "metadata": {
        "colab": {
          "base_uri": "https://localhost:8080/"
        },
        "id": "lBHW0uTmu83j",
        "outputId": "4fc52aa9-770f-4b4a-b171-8fd251a89298"
      },
      "execution_count": 14,
      "outputs": [
        {
          "output_type": "stream",
          "name": "stdout",
          "text": [
            "1 validation error for User\n",
            "email\n",
            "  value is not a valid email address: An email address must have an @-sign. [type=value_error, input_value='bryce', input_type=str]\n"
          ]
        }
      ]
    },
    {
      "cell_type": "code",
      "source": [
        "try:\n",
        "  user = User(id=1, name='Bryce', email='123412341@qq.com')\n",
        "except ValueError as e:\n",
        "  print(e)"
      ],
      "metadata": {
        "id": "fUAzGVB2vzcM"
      },
      "execution_count": 15,
      "outputs": []
    },
    {
      "cell_type": "code",
      "source": [
        "## 嵌套\n",
        "from pydantic import BaseModel\n",
        "class Address(BaseModel):\n",
        "  street: str\n",
        "  city: str\n",
        "  street: str\n",
        "\n",
        "class User(BaseModel):\n",
        "  id: int\n",
        "  name: str\n",
        "  address: Address\n",
        "\n",
        "\n",
        "address_data = {\n",
        "    'street': '123 Main St',\n",
        "    'city': 'Anytown',\n",
        "    'state': 'CA',\n",
        "    'zip': '12345'\n",
        "}\n",
        "\n",
        "user = User(id=1, name='Bryce', address=address_data)\n",
        "print(user)\n",
        "\n",
        "#id=1 name='Bryce' address=Address(street='123 Main St', city='Anytown')\n",
        "\n"
      ],
      "metadata": {
        "colab": {
          "base_uri": "https://localhost:8080/"
        },
        "id": "sh7fmzWVwSxn",
        "outputId": "92ed202b-0c2f-4222-8ef7-97599866189a"
      },
      "execution_count": 2,
      "outputs": [
        {
          "output_type": "stream",
          "name": "stdout",
          "text": [
            "id=1 name='Bryce' address=Address(street='123 Main St', city='Anytown')\n"
          ]
        }
      ]
    },
    {
      "cell_type": "code",
      "source": [
        "# 4\n",
        "from fastapi import FastAPI\n",
        "from pydantic import BaseModel\n",
        "\n",
        "app = FastAPI()\n",
        "\n",
        "class Item(BaseModel):\n",
        "    name: str\n",
        "    price: float\n",
        "    is_offer: bool = None\n",
        "\n",
        "@app.post(\"/items/\")\n",
        "async def create_item(item: Item):\n",
        "    return item"
      ],
      "metadata": {
        "id": "2aS04su1iDtV"
      },
      "execution_count": 4,
      "outputs": []
    },
    {
      "cell_type": "code",
      "source": [
        "# 5\n",
        "import json\n",
        "from pydantic import BaseModel\n",
        "class User(BaseModel):\n",
        "    id: int\n",
        "    name: str = 'John Doe'\n",
        "    is_active: bool = True\n",
        "\n",
        "json_data =  '{\"id\": 1, \"name\": \"Alice\", \"is_active\": true}'\n",
        "\n",
        "user = User.parse_raw(json_data)\n",
        "print(user)"
      ],
      "metadata": {
        "colab": {
          "base_uri": "https://localhost:8080/"
        },
        "id": "dluhafwGjQ9D",
        "outputId": "334c7528-1ac9-4e82-dc6c-1d080fd1d7c7"
      },
      "execution_count": 5,
      "outputs": [
        {
          "output_type": "stream",
          "name": "stdout",
          "text": [
            "id=1 name='Alice' is_active=True\n"
          ]
        }
      ]
    },
    {
      "cell_type": "code",
      "source": [
        "# 6\n",
        "import os\n",
        "from pydantic import BaseSettings\n",
        "\n",
        "class Settings(BaseSettings):\n",
        "    app_name: str\n",
        "    debug_mode: bool = False\n",
        "    items_per_user: int = 25\n",
        "\n",
        "    class Config:\n",
        "        env_file = \".env\"\n",
        "\n",
        "settings = Settings()\n",
        "print(settings.app_name)\n"
      ],
      "metadata": {
        "id": "9G4NgUVrjkM9"
      },
      "execution_count": null,
      "outputs": []
    },
    {
      "cell_type": "code",
      "source": [
        "# 7\n",
        "class User(BaseModel):\n",
        "    id: int\n",
        "    name: str\n",
        "\n",
        "user = User(id=1, name=\"Alice\")\n",
        "json_data = user.json()\n",
        "print(json_data)\n",
        "# 输出: {\"id\": 1, \"name\": \"Alice\"}"
      ],
      "metadata": {
        "id": "5bHC94knlc5t"
      },
      "execution_count": null,
      "outputs": []
    },
    {
      "cell_type": "code",
      "source": [
        "# 8\n",
        "from pydantic import BaseModel, validator\n",
        "\n",
        "class User(BaseModel):\n",
        "    id: int\n",
        "    name: str\n",
        "    age: int\n",
        "\n",
        "    @validator('age')\n",
        "    def check_age(cls, v): # cls=class，表示整个类\n",
        "        if v < 18:\n",
        "            raise ValueError('Age must be at least 18')\n",
        "        return v\n",
        "\n",
        "user = User(id=1, name=\"Alice\", age=20)\n",
        "print(user)\n",
        "# 输出: id=1 name='Alice' age=20\n"
      ],
      "metadata": {
        "id": "aWBer2ohlYbR"
      },
      "execution_count": null,
      "outputs": []
    },
    {
      "cell_type": "code",
      "source": [
        "# 9\n",
        "from fastapi import FastAPI\n",
        "from pydantic import BaseModel\n",
        "\n",
        "# 创建 FastAPI 实例\n",
        "app = FastAPI()\n",
        "\n",
        "# 定义 Pydantic 模型\n",
        "class Item(BaseModel):\n",
        "    name: str\n",
        "    description: str = None\n",
        "    price: float\n",
        "    tax: float = None\n",
        "\n",
        "# 定义一个 API 路由\n",
        "@app.post(\"/items/\", response_model=Item)\n",
        "async def create_item(item: Item):\n",
        "    return item\n",
        "\n",
        "# 启动应用：运行 `uvicorn main:app --reload`，`main` 是文件名，`app` 是 FastAPI 实例名\n"
      ],
      "metadata": {
        "id": "57dMfzZhlYiD"
      },
      "execution_count": null,
      "outputs": []
    }
  ]
}