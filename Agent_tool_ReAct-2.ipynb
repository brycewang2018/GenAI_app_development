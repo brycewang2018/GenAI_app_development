{
  "nbformat": 4,
  "nbformat_minor": 0,
  "metadata": {
    "colab": {
      "provenance": [],
      "toc_visible": true
    },
    "kernelspec": {
      "name": "python3",
      "display_name": "Python 3"
    },
    "language_info": {
      "name": "python"
    }
  },
  "cells": [
    {
      "cell_type": "code",
      "source": [
        "!pip install langchain_openai langchain_community langchain_openai tavily-python -q\n",
        "!pip install openai -q"
      ],
      "metadata": {
        "id": "8Pe3QmBHFKrr"
      },
      "execution_count": 7,
      "outputs": []
    },
    {
      "cell_type": "code",
      "execution_count": 2,
      "metadata": {
        "colab": {
          "base_uri": "https://localhost:8080/"
        },
        "id": "G8faEOOgFCcW",
        "outputId": "5a9607a8-df4c-42f8-8aa5-17761b74c8c2"
      },
      "outputs": [
        {
          "name": "stdout",
          "output_type": "stream",
          "text": [
            "··········\n"
          ]
        }
      ],
      "source": [
        "import getpass\n",
        "import os\n",
        "\n",
        "os.environ[\"OPENAI_API_KEY\"] = getpass.getpass()\n",
        "\n",
        "from langchain_openai import ChatOpenAI\n",
        "\n",
        "model = ChatOpenAI(model=\"gpt-4o-mini-2024-07-18\")"
      ]
    },
    {
      "cell_type": "code",
      "source": [
        "os.environ[\"TAVILY_API_KEY\"] = getpass.getpass()"
      ],
      "metadata": {
        "colab": {
          "base_uri": "https://localhost:8080/"
        },
        "id": "47gpo_l0G7GK",
        "outputId": "0ab21c61-8479-4ed6-889d-e2538aa18f25"
      },
      "execution_count": 4,
      "outputs": [
        {
          "name": "stdout",
          "output_type": "stream",
          "text": [
            "··········\n"
          ]
        }
      ]
    },
    {
      "cell_type": "code",
      "source": [
        "from langchain.llms import OpenAI\n",
        "from langchain.agents import initialize_agent, Tool, AgentType\n",
        "from tavily import TavilyClient\n",
        "import os\n",
        "\n",
        "# 确保设置了 Tavily API 密钥\n",
        "tavily_api_key = os.getenv(\"TAVILY_API_KEY\")\n",
        "if not tavily_api_key:\n",
        "    raise ValueError(\"请设置 TAVILY_API_KEY 环境变量\")\n",
        "\n",
        "# 创建 Tavily 客户端\n",
        "tavily_client = TavilyClient(api_key=tavily_api_key)\n",
        "\n",
        "# 创建一个使用 Tavily API 的搜索函数\n",
        "def tavily_search(query: str) -> str:\n",
        "    try:\n",
        "        results = tavily_client.search(query)\n",
        "        # 返回第一个结果的摘要，如果有的话\n",
        "        if results and len(results) > 0:\n",
        "            return results\n",
        "        else:\n",
        "            return \"No results found.\"\n",
        "    except Exception as e:\n",
        "        return f\"Error performing search: {str(e)}\"\n",
        "\n",
        "# 定义一个简单的计算工具函数\n",
        "def calculate_square(number_str: str) -> str:\n",
        "    \"\"\"\n",
        "    计算一个整数的平方。\n",
        "    \"\"\"\n",
        "    try:\n",
        "        number = int(number_str)\n",
        "        return f\"The square of {number} is {number ** 2}\"\n",
        "    except ValueError:\n",
        "        return f\"Error: '{number_str}' is not a valid integer.\"\n",
        "\n",
        "# 将 Tavily 搜索工具和计算工具包装成 LangChain 的 Tool\n",
        "tools = [\n",
        "    Tool(\n",
        "        name=\"Search\",\n",
        "        func=tavily_search,\n",
        "        description=\"Useful for when you need to answer questions by searching the web.\"\n",
        "    ),\n",
        "    Tool(\n",
        "        name=\"SquareCalculator\",\n",
        "        func=calculate_square,\n",
        "        description=\"Calculates the square of a given number. Input should be a string representing an integer.\"\n",
        "    )\n",
        "]\n",
        "\n",
        "# 初始化 OpenAI 模型\n",
        "llm = OpenAI(temperature=0)\n",
        "\n",
        "# 初始化 ReAct 代理\n",
        "agent = initialize_agent(\n",
        "    tools,\n",
        "    llm,\n",
        "    agent=AgentType.ZERO_SHOT_REACT_DESCRIPTION,\n",
        "    verbose=True\n",
        ")\n",
        "\n",
        "# 使用代理处理请求\n",
        "response = agent.run(\"What is the square of 15? Also, what is the capital of France?\")\n",
        "\n",
        "# 输出结果\n",
        "print(response)"
      ],
      "metadata": {
        "colab": {
          "base_uri": "https://localhost:8080/"
        },
        "id": "t_aGKWTPG7LS",
        "outputId": "ea15d0b2-48e5-4f1d-91d3-e654ef029caf"
      },
      "execution_count": 21,
      "outputs": [
        {
          "output_type": "stream",
          "name": "stdout",
          "text": [
            "\n",
            "\n",
            "\u001b[1m> Entering new AgentExecutor chain...\u001b[0m\n",
            "\u001b[32;1m\u001b[1;3m I should use the SquareCalculator for the first question and Search for the second question.\n",
            "Action: SquareCalculator\n",
            "Action Input: \"15\"\u001b[0m\n",
            "Observation: \u001b[33;1m\u001b[1;3mThe square of 15 is 225\u001b[0m\n",
            "Thought:\u001b[32;1m\u001b[1;3m I should now use Search to find the capital of France.\n",
            "Action: Search\n",
            "Action Input: \"capital of France\"\u001b[0m\n",
            "Observation: \u001b[36;1m\u001b[1;3m{'query': 'capital of France', 'follow_up_questions': None, 'answer': None, 'images': [], 'results': [{'title': 'Capital of France - Simple English Wikipedia, the free encyclopedia', 'url': 'https://simple.wikipedia.org/wiki/Capital_of_France', 'content': 'Learn about the history and current status of the capital of France, which is Paris. Find out which other cities have been the national capital in different periods of time, from ancient to modern.', 'score': 0.9972638, 'raw_content': None}, {'title': 'List of capitals of France - Wikipedia', 'url': 'https://en.wikipedia.org/wiki/List_of_capitals_of_France', 'content': 'Learn about the historical and current capitals of France, from Tournai to Paris. See the chronology of changes, the reasons for relocations, and the provisional seats of the government.', 'score': 0.9956347, 'raw_content': None}, {'title': 'Paris Facts | Britannica', 'url': 'https://www.britannica.com/facts/Paris', 'content': 'Learn about Paris, the capital of France, and its history, culture, landmarks, and people. Find out why Paris is called \"the City of Light\" and when it was founded, liberated, and attacked.', 'score': 0.993831, 'raw_content': None}, {'title': 'France | History, Maps, Flag, Population, Cities, Capital, & Facts ...', 'url': 'https://www.britannica.com/place/France', 'content': 'Even though its imperialist stage was driven by the impulse to civilize that world according to French standards (la mission civilisatrice), the French still note approvingly the words of writer Gustave Flaubert:\\nI am no more modern than I am ancient, no more French than Chinese; and the idea of la patrie, the fatherland—that is, the obligation to live on a bit of earth coloured red or blue on a map, and to detest the other bits coloured green or black—has always seemed to me narrow, restricted, and ferociously stupid.\\n Among France’s other major cities are Lyon, located along an ancient Rhône valley trade route linking the North Sea and the Mediterranean; Marseille, a multiethnic port on the Mediterranean founded as an entrepôt for Greek and Carthaginian traders in the 6th century bce; Nantes, an industrial centre and deepwater harbour along the Atlantic coast; and Bordeaux, located in southwestern France along the Garonne River. A majestic city known as the ville lumière, or “city of light,” Paris has often been remade, most famously in the mid-19th century under the command of Georges-Eugène, Baron Haussman, who was committed to Napoleon III’s vision of a modern city free of the choleric swamps and congested alleys of old, with broad avenues and a regular plan. Metropolitan Paris has now extended far beyond its ancient suburbs into the countryside, however, and nearly every French town and village now numbers a retiree or two driven from the city by the high cost of living, so that, in a sense, Paris has come to embrace the desert and the desert Paris.\\n France has also been influential in government and civil affairs, giving the world important democratic ideals in the age of the Enlightenment and the French Revolution and inspiring the growth of reformist and even revolutionary movements for generations.', 'score': 0.8372211, 'raw_content': None}, {'title': 'Paris - Wikipedia', 'url': 'https://en.wikipedia.org/wiki/Paris', 'content': 'The city\\'s population loss came to a temporary halt at the beginning of the 21st century; the population increased from 2,125,246 in 1999 to 2,240,621 in 2012, before declining again slightly in 2017, 2018, and again in 2021.[159][160]\\nParis is the core of a built-up area that extends well beyond its limits: commonly referred to as the agglomération Parisienne, and statistically as a unité urbaine (a measure of urban area), the Paris agglomeration\\'s population of 10,785,092 in 2017[161] made it the largest urban area in the European Union.[162] City-influenced commuter activity reaches well beyond even this in a statistical aire d\\'attraction de Paris (\"functional area\", a statistical method comparable to a metropolitan area[163]), that had a population of 13,024,518 in 2017,[164] 19.6% of the population of France,[165] and the largest metropolitan area in the Eurozone.[162]\\nAccording to Eurostat, the EU statistical agency, in 2012 the Commune of Paris was the most densely populated city in the European Union, with 21,616 people per square kilometre within the city limits (the NUTS-3 statistical area), ahead of Inner London West, which had 10,374 people per square kilometre. Parisian and Italian musicians who played the accordion adopted the style and established themselves in Auvergnat bars,[232] anParis became a major centre for jazz and still attracts jazz musicians from all around the world to its clubs and cafés.[233]\\nParis is the spiritual home of gypsy jazz in particular, and many of the Parisian jazzmen who developed in the first half of the 20th century began by playing Bal-musette in the city.[232] Django Reinhardt rose to fame in Paris, having moved to the 18th arrondissement in a caravan as a young boy, and performed with violinist Stéphane Grappelli and their Quintette du Hot Club de France in the 1930s and 1940s.[234]\\nImmediately after the War the Saint-Germain-des-Pres quarter and the nearby Saint-Michel quarter became home to many small jazz clubs, including the Caveau des Lorientais, the Club Saint-Germain, the Rose Rouge, the Vieux-Colombier, and the most famous, Le Tabou. After seizing power in Paris on 28\\xa0March, a revolutionary government known as the Paris Commune held power for two months, before being harshly suppressed by the French army during the \"Bloody Week\" at the end of May 1871.[59]\\nIn the late 19th century, Paris hosted two major international expositions: the 1889 Universal Exposition, which featured the new Eiffel Tower, was held to mark the centennial of the French Revolution; and the 1900 Universal Exposition gave Paris the Pont Alexandre III, the Grand Palais, the Petit Palais and the first Paris Métro line.[60] Paris became the laboratory of Naturalism (Émile Zola) and Symbolism (Charles Baudelaire and Paul Verlaine), and of Impressionism in art (Courbet, Manet, Monet, Renoir).[61]\\n20th and 21st centuries[edit]\\nBy 1901, the population of Paris had grown to about 2,715,000.[62] In 2012 and 2013, it was estimated that there were almost 500,000 Muslims in the City of Paris, 1.5 million Muslims in the Île-de-France region and 4 to 5 million Muslims in France.[176][177]\\nThe Jewish population of the Paris Region was estimated in 2014 to be 282,000, the largest concentration of Jews in the world outside of Israel and the United States.[178]\\nEconomy[edit]\\nThe economy of the City of Paris is based largely on services and commerce; of the 390,480 enterprises in the city, 80.6 percent are engaged in commerce, transportation, and diverse services, 6.5 percent in construction, and just 3.8 percent in industry.[182] The Paris region\\'s most intense economic activity through the central Hauts-de-Seine department and suburban La Défense business district places Paris\\'s economic centre to the west of the city, in a triangle between the Opéra Garnier, La Défense and the Val de Seine.[194] While the Paris economy is dominated by services, and employment in manufacturing sector has declined sharply, the region remains an important manufacturing centre, particularly for aeronautics, automobiles, and \"eco\" industries.[194]\\nIn the 2017 worldwide cost of living survey by the Economist Intelligence Unit, based on a survey made in September 2016, Paris ranked as the seventh most expensive city in the world, and the second most expensive in Europe, after Zurich.[195]', 'score': 0.82403755, 'raw_content': None}], 'response_time': 2.45}\u001b[0m\n",
            "Thought:\u001b[32;1m\u001b[1;3m I now know the final answer.\n",
            "Final Answer: The capital of France is Paris.\u001b[0m\n",
            "\n",
            "\u001b[1m> Finished chain.\u001b[0m\n",
            "The capital of France is Paris.\n"
          ]
        }
      ]
    },
    {
      "cell_type": "code",
      "source": [],
      "metadata": {
        "id": "KbY1VDpwI6b6"
      },
      "execution_count": null,
      "outputs": []
    }
  ]
}
