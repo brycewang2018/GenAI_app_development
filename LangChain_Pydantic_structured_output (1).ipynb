{
  "nbformat": 4,
  "nbformat_minor": 0,
  "metadata": {
    "colab": {
      "provenance": []
    },
    "kernelspec": {
      "name": "python3",
      "display_name": "Python 3"
    },
    "language_info": {
      "name": "python"
    }
  },
  "cells": [
    {
      "cell_type": "code",
      "source": [
        "!pip install langchain openai pydantic python-dotenv langchain_community -q"
      ],
      "metadata": {
        "colab": {
          "base_uri": "https://localhost:8080/"
        },
        "id": "vx2SzFBsz4CS",
        "outputId": "d7a05ff0-0b4a-45d0-999c-2275653caca4"
      },
      "execution_count": 3,
      "outputs": [
        {
          "output_type": "stream",
          "name": "stdout",
          "text": [
            "\u001b[?25l   \u001b[90m━━━━━━━━━━━━━━━━━━━━━━━━━━━━━━━━━━━━━━━━\u001b[0m \u001b[32m0.0/2.3 MB\u001b[0m \u001b[31m?\u001b[0m eta \u001b[36m-:--:--\u001b[0m\r\u001b[2K   \u001b[91m━━━━━━━━━━━━━━━━━━━━━━━━━━━━━\u001b[0m\u001b[90m╺\u001b[0m\u001b[90m━━━━━━━━━━\u001b[0m \u001b[32m1.7/2.3 MB\u001b[0m \u001b[31m50.7 MB/s\u001b[0m eta \u001b[36m0:00:01\u001b[0m\r\u001b[2K   \u001b[90m━━━━━━━━━━━━━━━━━━━━━━━━━━━━━━━━━━━━━━━━\u001b[0m \u001b[32m2.3/2.3 MB\u001b[0m \u001b[31m38.0 MB/s\u001b[0m eta \u001b[36m0:00:00\u001b[0m\n",
            "\u001b[?25h\u001b[?25l   \u001b[90m━━━━━━━━━━━━━━━━━━━━━━━━━━━━━━━━━━━━━━━━\u001b[0m \u001b[32m0.0/49.3 kB\u001b[0m \u001b[31m?\u001b[0m eta \u001b[36m-:--:--\u001b[0m\r\u001b[2K   \u001b[90m━━━━━━━━━━━━━━━━━━━━━━━━━━━━━━━━━━━━━━━━\u001b[0m \u001b[32m49.3/49.3 kB\u001b[0m \u001b[31m3.1 MB/s\u001b[0m eta \u001b[36m0:00:00\u001b[0m\n",
            "\u001b[?25h"
          ]
        }
      ]
    },
    {
      "cell_type": "code",
      "execution_count": 4,
      "metadata": {
        "colab": {
          "base_uri": "https://localhost:8080/"
        },
        "id": "52YPpCMyz0IO",
        "outputId": "1d4f618f-2fa8-4c95-951d-0cb2c4291b40"
      },
      "outputs": [
        {
          "output_type": "stream",
          "name": "stderr",
          "text": [
            "<ipython-input-4-793ac61d57b7>:28: LangChainDeprecationWarning: The class `OpenAI` was deprecated in LangChain 0.0.10 and will be removed in 1.0. An updated version of the class exists in the langchain-openai package and should be used instead. To use it run `pip install -U langchain-openai` and import as `from langchain_openai import OpenAI`.\n",
            "  llm = OpenAI(temperature=0, openai_api_key = 'sk-lWeS6-V_vhnY50mXuA6Un4N79C0t2pT9tlauc8cK_QT3BlbkFJum7Gno_ndZc6TrIOLzvMIAw9MyyEPsAAccOUlhofoA')\n",
            "<ipython-input-4-793ac61d57b7>:31: LangChainDeprecationWarning: The method `BaseLLM.__call__` was deprecated in langchain-core 0.1.7 and will be removed in 1.0. Use invoke instead.\n",
            "  output = llm(_input.to_string())\n"
          ]
        },
        {
          "output_type": "stream",
          "name": "stdout",
          "text": [
            "name='Small Library' books=[Book(title='To Kill a Mockingbird', author=Author(name='Harper Lee', birth_year=1926), publication_year=1960), Book(title='1984', author=Author(name='George Orwell', birth_year=1903), publication_year=1949)]\n"
          ]
        }
      ],
      "source": [
        "from pydantic import BaseModel, Field\n",
        "from typing import List\n",
        "from langchain.output_parsers import PydanticOutputParser\n",
        "from langchain.prompts import PromptTemplate\n",
        "from langchain.llms import OpenAI\n",
        "\n",
        "class Author(BaseModel):\n",
        "    name: str = Field(description=\"Name of the author\")\n",
        "    birth_year: int = Field(description=\"Year the author was born\")\n",
        "\n",
        "class Book(BaseModel):\n",
        "    title: str = Field(description=\"Title of the book\")\n",
        "    author: Author = Field(description=\"Author of the book\")\n",
        "    publication_year: int = Field(description=\"Year the book was published\")\n",
        "\n",
        "class Library(BaseModel):\n",
        "    name: str = Field(description=\"Name of the library\")\n",
        "    books: List[Book] = Field(description=\"List of books in the library\")\n",
        "\n",
        "parser = PydanticOutputParser(pydantic_object=Library)\n",
        "\n",
        "prompt = PromptTemplate(\n",
        "    template=\"Provide information about a library and its books.\\n{format_instructions}\\n{query}\",\n",
        "    input_variables=[\"query\"],\n",
        "    partial_variables={\"format_instructions\": parser.get_format_instructions()}\n",
        ")\n",
        "\n",
        "llm = OpenAI(temperature=0, openai_api_key = 'sk-xxx')\n",
        "\n",
        "_input = prompt.format_prompt(query=\"Describe a small library with 2 books\")\n",
        "output = llm(_input.to_string())\n",
        "result = parser.parse(output)\n",
        "\n",
        "print(result)"
      ]
    }
  ]
}